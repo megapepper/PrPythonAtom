{
 "cells": [
  {
   "cell_type": "code",
   "execution_count": 1,
   "metadata": {},
   "outputs": [],
   "source": [
    "class HashMap:\n",
    "    \n",
    "    class Entry:\n",
    "        def __init__(self, key, value):\n",
    "            self.key=key\n",
    "            self.value=value\n",
    "            self.next=None\n",
    "            \n",
    "        def get_key(self):\n",
    "            return self.key\n",
    "            \n",
    "        def get_value(self):\n",
    "            return self.value\n",
    "            \n",
    "        def __eq__(self, other):\n",
    "            return self.key==other.key\n",
    "    \n",
    "    def __init__(self, bucket_num=64):\n",
    "        self.buckets = [None for i in range(bucket_num)]\n",
    "\n",
    "    def get(self, key, default_value=None):\n",
    "        index = self._get_index(self._get_hash(key))\n",
    "        our_elem = self.buckets[index]\n",
    "        while our_elem is not None:\n",
    "            if our_elem.get_key() == key:\n",
    "                return our_elem.get_value()\n",
    "            else:\n",
    "                our_elem = our_elem.next\n",
    "        return default_value\n",
    "\n",
    "    def put(self, key, value):\n",
    "        index = self._get_index(self._get_hash(key))\n",
    "        new_elem = self.Entry(key, value)\n",
    "        if self.buckets[index] is None:\n",
    "            self.buckets[index] = new_elem\n",
    "        else:\n",
    "            our_elem = self.buckets[index]\n",
    "            while our_elem is not None:\n",
    "                if our_elem == new_elem:\n",
    "                    our_elem.value = new_elem.value\n",
    "                    break\n",
    "                else:\n",
    "                    our_elem = our_elem.next\n",
    "            if our_elem is None:\n",
    "                new_elem.next = self.buckets[index]\n",
    "                self.buckets[index] = new_elem\n",
    "\n",
    "    def __len__(self):\n",
    "        len = 0\n",
    "        for i in self.buckets:\n",
    "            our_elem = i\n",
    "            counter = 0\n",
    "            while our_elem is not None:\n",
    "                counter += 1\n",
    "                our_elem = our_elem.next\n",
    "            len += counter\n",
    "        return len\n",
    "\n",
    "    def _get_hash(self, key):\n",
    "        return hash(key)\n",
    "\n",
    "    def _get_index(self, hash_value):\n",
    "        return hash_value % len(self.buckets)\n",
    "\n",
    "    def values(self):\n",
    "        pass\n",
    "\n",
    "    def keys(self):\n",
    "        pass\n",
    "\n",
    "    def items(self):\n",
    "        pass\n",
    "\n",
    "    def __str__(self):\n",
    "        str_ = '{'\n",
    "        for i in range(len(self.buckets)):\n",
    "            str_ += str(i) + ': '\n",
    "            our_elem = self.buckets[i]\n",
    "            if our_elem is None:\n",
    "                str_ += 'None' + '; '\n",
    "            else:\n",
    "                while our_elem is not None:\n",
    "                    str_ += str(our_elem.get_key()) + '- ' + str(our_elem.get_value()) + ';'\n",
    "                    our_elem = our_elem.next\n",
    "        str_ += '}'\n",
    "        return str_"
   ]
  },
  {
   "cell_type": "code",
   "execution_count": 2,
   "metadata": {},
   "outputs": [],
   "source": [
    "class HashSet(HashMap):\n",
    "   \n",
    "    def get(self, key, default_value=None):\n",
    "        if super().get(key) is None:\n",
    "            return default_value\n",
    "        else:\n",
    "            return key\n",
    "            \n",
    "            \n",
    "    def put(self, key, value):\n",
    "        return super().put(key,value)\n",
    "\n",
    "    def __len__(self):\n",
    "        return super().__len__()"
   ]
  },
  {
   "cell_type": "code",
   "execution_count": 3,
   "metadata": {},
   "outputs": [],
   "source": [
    "import random\n",
    "\n",
    "def test_hashmap_04():\n",
    "    entries = [(5, 7), (\"entries\", 56), (\"value\", 54.), (1000, \"t\"), (HashMap(10), ()), ({\"s\":\"v\"}, {\"v\":\"s\"})]\n",
    "    for k, v in entries:\n",
    "        entry = HashMap.Entry(k, v)\n",
    "        assert entry.get_key() == k\n",
    "        assert entry.get_value() == v\n",
    "    print(\"Test 4 part 01 passed\")\n",
    "        \n",
    "    for i in range(len(entries)):\n",
    "        entry_one = HashMap.Entry(entries[i][0], entries[i][1])\n",
    "        for _ in range(10):\n",
    "            j = random.randint(0, len(entries)-1)\n",
    "            p = random.randint(0, len(entries)-1)\n",
    "            entry_two = HashMap.Entry(entries[j][0], entries[p][1])\n",
    "            if j == i:\n",
    "                assert entry_one == entry_two\n",
    "            else:\n",
    "                assert entry_one != entry_two\n",
    "    print(\"Test 4 part 02 passed\")\n",
    "    \n",
    "def test_hashmap_05():\n",
    "    hashmap = HashMap(10)\n",
    "    assert sum(isinstance(v, list) for k, v in hashmap.__dict__.items()) == 1\n",
    "    print(\"Test 5 part 01 passed\")\n",
    "    \n",
    "    inner_list_name = [k for k, v in hashmap.__dict__.items() if isinstance(v, list)][0]\n",
    "    for i in range(10):\n",
    "        assert len(HashMap(i).__dict__[inner_list_name]) == i\n",
    "    print(\"Test 5 part 02 passed\")\n",
    "    \n",
    "def test_hashmap_06():\n",
    "    hashmap = HashMap(10)\n",
    "    entries = [(5, 7), (\"entries\", 56), (\"value\", 54.), (1000, \"t\"), (HashMap(10), ())]\n",
    "    for k, v in entries:\n",
    "        hashmap.put(k, v)\n",
    "    print(hashmap.__str__())\n",
    "    for k, v in entries:\n",
    "        assert hashmap.get(k) == v\n",
    "    print(\"Test 6 part 01 passed\")\n",
    "    \n",
    "    for _ in range(100):\n",
    "        i = random.randint(0, len(entries)-1)\n",
    "        j = random.randint(0, len(entries)-1)\n",
    "        hashmap.put(i, j)\n",
    "        assert hashmap.get(i) == j\n",
    "        \n",
    "    assert hashmap.get(\"nexit\", \"default\") ==\"default\"\n",
    "    \n",
    "    print(\"Test 6 part 02 passed\")"
   ]
  },
  {
   "cell_type": "code",
   "execution_count": 4,
   "metadata": {},
   "outputs": [
    {
     "name": "stdout",
     "output_type": "stream",
     "text": [
      "Test 4 part 01 passed\n",
      "Test 4 part 02 passed\n"
     ]
    }
   ],
   "source": [
    "test_hashmap_04()"
   ]
  },
  {
   "cell_type": "code",
   "execution_count": 5,
   "metadata": {},
   "outputs": [
    {
     "name": "stdout",
     "output_type": "stream",
     "text": [
      "Test 5 part 01 passed\n",
      "Test 5 part 02 passed\n"
     ]
    }
   ],
   "source": [
    "test_hashmap_05()"
   ]
  },
  {
   "cell_type": "code",
   "execution_count": 6,
   "metadata": {},
   "outputs": [
    {
     "name": "stdout",
     "output_type": "stream",
     "text": [
      "{0: 1000- t;1: None; 2: None; 3: value- 54.0;4: entries- 56;5: 5- 7;6: None; 7: {0: None; 1: None; 2: None; 3: None; 4: None; 5: None; 6: None; 7: None; 8: None; 9: None; }- ();8: None; 9: None; }\n",
      "Test 6 part 01 passed\n",
      "Test 6 part 02 passed\n"
     ]
    }
   ],
   "source": [
    "test_hashmap_06()"
   ]
  },
  {
   "cell_type": "code",
   "execution_count": null,
   "metadata": {},
   "outputs": [],
   "source": []
  }
 ],
 "metadata": {
  "kernelspec": {
   "display_name": "Python 3",
   "language": "python",
   "name": "python3"
  },
  "language_info": {
   "codemirror_mode": {
    "name": "ipython",
    "version": 3
   },
   "file_extension": ".py",
   "mimetype": "text/x-python",
   "name": "python",
   "nbconvert_exporter": "python",
   "pygments_lexer": "ipython3",
   "version": "3.6.4"
  }
 },
 "nbformat": 4,
 "nbformat_minor": 2
}
