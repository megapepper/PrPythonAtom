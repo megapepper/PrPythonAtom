{
 "cells": [
  {
   "cell_type": "markdown",
   "metadata": {},
   "source": [
    "# Недельник 1\n",
    "\n",
    "Как было сказано на лекции, на текущей неделе вы получаете ежедневные задания. Система оценки следующая: в первый день(четверг) вы делаете первый pull-request в ветку homework_01. Потом каждый день делаете коммит, он будет автоматически привязывать к pull-request. Если задачка не сделана в течении 2-х дней она сгорает. (Можно четверг сделать в четверг и пятницу)"
   ]
  },
  {
   "cell_type": "markdown",
   "metadata": {},
   "source": [
    "# Четверг"
   ]
  },
  {
   "cell_type": "code",
   "execution_count": 2,
   "metadata": {},
   "outputs": [],
   "source": [
    "#TODO Сделайте калькулятор произвольных выражений, операции следующие: +, -, /, ^, *. скобок нет\n",
    "def calculate(input_str):\n",
    "    s=\"\"\n",
    "    x=[]\n",
    "    in_str=input_str.replace(\" \",\"\")\n",
    "    for i in in_str:\n",
    "        if i.isdigit():\n",
    "            s=s+i\n",
    "        else:\n",
    "            x.append(int(s))\n",
    "            x.append(i)\n",
    "            s=\"\"\n",
    "            continue\n",
    "    x.append(int(s))\n",
    "    # 1-ый приоритет - степень(^)\n",
    "    j=0\n",
    "    y=x\n",
    "    y0=[]\n",
    "    for i in range(len(x)):\n",
    "        if x[i]==\"^\":\n",
    "            y0=y[:j-1]\n",
    "            if x[i]=='^':\n",
    "                y0.append(y[j-1]**y[j+1])\n",
    "            for k in range(i+2,len(x)):\n",
    "                y0.append(x[k])\n",
    "            j-=2\n",
    "            y=y0\n",
    "        j+=1\n",
    "    x=y\n",
    "    # 2-ой приоритет - *,/\n",
    "    j=0\n",
    "    y0=[]\n",
    "    for i in range(len(x)):\n",
    "        if x[i]=='*' or x[i]==\"/\":\n",
    "            y0=y[:j-1]\n",
    "            if x[i]=='*':\n",
    "                y0.append(y[j-1]*y[j+1])\n",
    "            if x[i]=='/':\n",
    "                y0.append(y[j-1]/y[j+1])\n",
    "            for k in range(i+2,len(x)):\n",
    "                y0.append(x[k])\n",
    "            j-=2\n",
    "            y=y0\n",
    "        j+=1\n",
    "    x=y\n",
    "    # 3- ий приоритет - +,-\n",
    "    j=0\n",
    "    y0=[]\n",
    "    for i in range(len(x)):\n",
    "        if x[i]=='+' or x[i]==\"-\":\n",
    "            y0=y[:j-1]\n",
    "            if x[i]=='+':\n",
    "                y0.append(y[j-1]+y[j+1])\n",
    "            if x[i]=='-':\n",
    "                y0.append(y[j-1]-y[j+1])\n",
    "            for k in range(i+2,len(x)):\n",
    "                y0.append(x[k])\n",
    "            j-=2\n",
    "            y=y0\n",
    "        j+=1\n",
    "    x=y\n",
    "    return round(x[0],4)"
   ]
  },
  {
   "cell_type": "code",
   "execution_count": 3,
   "metadata": {},
   "outputs": [],
   "source": [
    "assert calculate(\"2 + 2 * 2\") == 6\n",
    "assert calculate(\"345 / 5 * 21\") == 1449.\n",
    "assert calculate(\"3^3 - 10 + 41 * 3\") == 140\n",
    "assert calculate(\"42 / 7 * 32\") == 192.0\n",
    "\n",
    "#TODO Дополнить еще 2-мя своими тестами\n",
    "assert calculate(\"5^2-5+2*3\") == 26\n",
    "assert calculate(\"8^2-4/3\") == 62.6667"
   ]
  },
  {
   "cell_type": "markdown",
   "metadata": {},
   "source": [
    "# Пятница"
   ]
  },
  {
   "cell_type": "code",
   "execution_count": 4,
   "metadata": {},
   "outputs": [],
   "source": [
    "#TODO метод разворачивающий строку HE2LO -> HELLO (число означает сколько раз встречается буква)\n",
    "def transform_string(inp_string):\n",
    "    ret_string=inp_string\n",
    "    flag=0\n",
    "    n=0\n",
    "    j=0\n",
    "    N=''\n",
    "    for i in inp_string:\n",
    "        s=''\n",
    "        if flag==1:\n",
    "            if not(i.isdigit()):\n",
    "                for j in range(n):\n",
    "                    s=s+i\n",
    "                flag=0\n",
    "                ret_string=ret_string.replace(N+i,s)\n",
    "                N=''\n",
    "            else:\n",
    "                N=N+i\n",
    "                n=int(N)\n",
    "        if i.isdigit() and flag==0:\n",
    "            n=int(i)\n",
    "            N=i\n",
    "            flag=1\n",
    "    return ret_string"
   ]
  },
  {
   "cell_type": "code",
   "execution_count": 5,
   "metadata": {},
   "outputs": [],
   "source": [
    "assert transform_string(\"HE2LO\") == \"HELLO\"\n",
    "assert transform_string(\"HI\") == \"HI\"\n",
    "assert transform_string(\"пр12ивет\") == \"приииииииииииивет\"\n",
    "assert transform_string(\"2л3у78н65тик\") == 'ллуууннннннннннннннннннннннннннннннннннннннннннннннннннннннннннннннннннннннннннннннтттттттттттттттттттттттттттттттттттттттттттттттттттттттттттттттттик'\n",
    "\n",
    "#TODO Дописать 2 своих теста\n",
    "assert transform_string(\"6ёж7ик\") == \"ёёёёёёжииииииик\"\n",
    "assert transform_string(\"лош5адк6а\") == \"лошааааадкаааааа\""
   ]
  },
  {
   "cell_type": "markdown",
   "metadata": {},
   "source": [
    "# Суббота"
   ]
  },
  {
   "cell_type": "code",
   "execution_count": 23,
   "metadata": {},
   "outputs": [],
   "source": [
    "#TODO метод выводящий статистику по строке, кол-во гласных, согласных, цифр, строчных букв, прописных букв\n",
    "def string_stat(inp_string):\n",
    "    gl = 'aeiouAEIOUаеиоуыэюяАЕИОУЫЭЮЯ'\n",
    "    glas = sum(1 for x in inp_string if x in gl)\n",
    "    soglas = sum(1 for x in inp_string if x.isalpha() and x not in gl)\n",
    "    numb = sum(1 for x in inp_string if x.isdigit())\n",
    "    stroch = sum(1 for x in inp_string if x.islower())\n",
    "    prop = sum(1 for x in inp_string if x.isupper())\n",
    "    return glas, soglas, numb, stroch, prop"
   ]
  },
  {
   "cell_type": "code",
   "execution_count": 24,
   "metadata": {},
   "outputs": [],
   "source": [
    "assert string_stat(\"Тевирп\") == (2, 4, 0, 5, 1)\n",
    "assert string_stat(\"КоРоВа4\") == (3, 3, 1, 3, 3)\n",
    "\n",
    "#TODO 2 своих теста\n",
    "assert string_stat(\"33Korovы\") == (3, 3, 2, 5, 1)\n",
    "assert string_stat(\"5ЭLEment\") == (3, 4, 1, 4, 3)"
   ]
  },
  {
   "cell_type": "markdown",
   "metadata": {},
   "source": [
    "# Воскресенье - ВЫХОДНОЙ"
   ]
  },
  {
   "cell_type": "markdown",
   "metadata": {},
   "source": [
    "# Понедельник"
   ]
  },
  {
   "cell_type": "code",
   "execution_count": null,
   "metadata": {},
   "outputs": [],
   "source": [
    "#TODO инвертируйте словарь из k - [v_1, v_2] в v_1 [k_1]\n",
    "def dict_inverter(input_dict):\n",
    "    return {}"
   ]
  },
  {
   "cell_type": "code",
   "execution_count": null,
   "metadata": {},
   "outputs": [],
   "source": [
    "assert dict_inverter({\"mango\" : [\"eatable\"], \"pillow\": [\"sleepable\"]}) == {\"eatable\": \"mango\", \"sleepable\": \"pillow\"}\n",
    "assert dict_inverter({\"mango\" : [\"eatable\", \"readable\"]}) == {\"readable\":\"mango\", \"eatable\":\"mango\"}\n",
    "assert dict_inverter({\"mango\" : [\"eatable\"], \"banana\": [\"eatable\"]}) == {\"eatable\": [\"mango\", \"banana\"]}\n",
    "\n",
    "#TODO Один свой тест"
   ]
  },
  {
   "cell_type": "markdown",
   "metadata": {},
   "source": [
    "# Вторник"
   ]
  },
  {
   "cell_type": "code",
   "execution_count": 5,
   "metadata": {},
   "outputs": [],
   "source": [
    "#TODO вывести уникальные элементы массива\n",
    "def uniq_array(input_arr):\n",
    "    return list(set(input_arr))"
   ]
  },
  {
   "cell_type": "code",
   "execution_count": 6,
   "metadata": {},
   "outputs": [],
   "source": [
    "assert uniq_array([0]) == [0]\n",
    "assert uniq_array([0, 1, 2, 3]) == [0, 1, 2, 3]\n",
    "assert uniq_array([\"f\", \"t\", \"f\"]) == ['t', 'f']\n",
    "assert uniq_array(['rt', 'rt']) == ['rt']"
   ]
  },
  {
   "cell_type": "code",
   "execution_count": null,
   "metadata": {},
   "outputs": [],
   "source": []
  }
 ],
 "metadata": {
  "kernelspec": {
   "display_name": "Python 3",
   "language": "python",
   "name": "python3"
  },
  "language_info": {
   "codemirror_mode": {
    "name": "ipython",
    "version": 3
   },
   "file_extension": ".py",
   "mimetype": "text/x-python",
   "name": "python",
   "nbconvert_exporter": "python",
   "pygments_lexer": "ipython3",
   "version": "3.6.4"
  }
 },
 "nbformat": 4,
 "nbformat_minor": 2
}
